{
  "nbformat": 4,
  "nbformat_minor": 0,
  "metadata": {
    "colab": {
      "provenance": [],
      "authorship_tag": "ABX9TyMnoKNlDXkgX/B7j08ZEN/N",
      "include_colab_link": true
    },
    "kernelspec": {
      "name": "python3",
      "display_name": "Python 3"
    },
    "language_info": {
      "name": "python"
    }
  },
  "cells": [
    {
      "cell_type": "markdown",
      "metadata": {
        "id": "view-in-github",
        "colab_type": "text"
      },
      "source": [
        "<a href=\"https://colab.research.google.com/github/Prasanna1Mula/Incometax-code/blob/main/Data_Science_essentials_of_Python.ipynb\" target=\"_parent\"><img src=\"https://colab.research.google.com/assets/colab-badge.svg\" alt=\"Open In Colab\"/></a>"
      ]
    },
    {
      "cell_type": "code",
      "execution_count": null,
      "metadata": {
        "id": "zBoT5nwt8gXn"
      },
      "outputs": [],
      "source": []
    },
    {
      "cell_type": "code",
      "source": [
        "# comments\n",
        "#Hello people!!\n",
        "X=3\n",
        "X=X*3\n",
        "print(X)\n"
      ],
      "metadata": {
        "colab": {
          "base_uri": "https://localhost:8080/"
        },
        "id": "Hil2nGXL9Tyb",
        "outputId": "5f2cf0f5-8f49-4cdd-dda6-a4175b487861"
      },
      "execution_count": 1,
      "outputs": [
        {
          "output_type": "stream",
          "name": "stdout",
          "text": [
            "9\n"
          ]
        }
      ]
    },
    {
      "cell_type": "code",
      "source": [
        "numOfLaptops = 3\n",
        "ownerName= \"Prasanna Mula\"\n",
        "print(\"number of laptops = \", numOfLaptops)\n",
        "print(\"Owners Name = \", ownerName)"
      ],
      "metadata": {
        "colab": {
          "base_uri": "https://localhost:8080/"
        },
        "id": "mOPhOJYB91KR",
        "outputId": "d81561c1-550a-4706-b7e1-c468c988cecc"
      },
      "execution_count": 3,
      "outputs": [
        {
          "output_type": "stream",
          "name": "stdout",
          "text": [
            "number of laptops =  3\n",
            "Owners Name =  Prasanna Mula\n"
          ]
        }
      ]
    },
    {
      "cell_type": "code",
      "source": [
        "#Airthmetic operations\n",
        "a = 10\n",
        "b= 4\n",
        "\n",
        "print(a+b)\n",
        "print(a-b)\n",
        "print(a*b)\n",
        "print(a/b)\n",
        "print(a%b)\n",
        "print(a**b)"
      ],
      "metadata": {
        "colab": {
          "base_uri": "https://localhost:8080/"
        },
        "id": "8SYVRRRY-a0x",
        "outputId": "4dcbd73c-261c-4277-9189-17d2fd217c2a"
      },
      "execution_count": 4,
      "outputs": [
        {
          "output_type": "stream",
          "name": "stdout",
          "text": [
            "14\n",
            "6\n",
            "40\n",
            "2.5\n",
            "2\n",
            "10000\n"
          ]
        }
      ]
    },
    {
      "cell_type": "code",
      "source": [
        "#Logical operators\n",
        "a=5\n",
        "b=8\n",
        "\n",
        "print(a>3 and a<7)\n",
        "print(a>6 or b<7)\n",
        "print(not(a>3))\n"
      ],
      "metadata": {
        "colab": {
          "base_uri": "https://localhost:8080/"
        },
        "id": "LydtaAJA-3Es",
        "outputId": "32ed39b1-1620-45e1-827a-574fca31f894"
      },
      "execution_count": 6,
      "outputs": [
        {
          "output_type": "stream",
          "name": "stdout",
          "text": [
            "True\n",
            "False\n",
            "False\n"
          ]
        }
      ]
    },
    {
      "cell_type": "code",
      "source": [
        "#User input\n",
        "city = input(\"Where do you live?\\n\")\n",
        "print(\"\\n The city you live is : \" + city)\n"
      ],
      "metadata": {
        "colab": {
          "base_uri": "https://localhost:8080/"
        },
        "id": "r4D53IvX_RzB",
        "outputId": "6f95edf3-971f-4e03-dc71-1c6bb7b3fdf4"
      },
      "execution_count": 8,
      "outputs": [
        {
          "output_type": "stream",
          "name": "stdout",
          "text": [
            "Where do you live?\n",
            "Visakhapatnam\n",
            "\n",
            " The city you live is : Visakhapatnam\n"
          ]
        }
      ]
    },
    {
      "cell_type": "markdown",
      "source": [
        "**NumPy and Pandas**"
      ],
      "metadata": {
        "id": "n4KRhmPR_5sy"
      }
    },
    {
      "cell_type": "code",
      "source": [
        " import numpy as np\n",
        "\n",
        " numbers = [1,2,3,4,5],[\"hello\",\"learners\"]\n",
        " numbers = np.array(numbers)\n",
        " print(\"Two dimensional Array : \", numbers)\n",
        ""
      ],
      "metadata": {
        "colab": {
          "base_uri": "https://localhost:8080/",
          "height": 245
        },
        "id": "-tawwNjMABnH",
        "outputId": "7058c59e-4a43-42e8-fc8a-a27362295ebf"
      },
      "execution_count": 12,
      "outputs": [
        {
          "output_type": "error",
          "ename": "ValueError",
          "evalue": "setting an array element with a sequence. The requested array has an inhomogeneous shape after 1 dimensions. The detected shape was (2,) + inhomogeneous part.",
          "traceback": [
            "\u001b[0;31m---------------------------------------------------------------------------\u001b[0m",
            "\u001b[0;31mValueError\u001b[0m                                Traceback (most recent call last)",
            "\u001b[0;32m<ipython-input-12-82eae998407d>\u001b[0m in \u001b[0;36m<cell line: 4>\u001b[0;34m()\u001b[0m\n\u001b[1;32m      2\u001b[0m \u001b[0;34m\u001b[0m\u001b[0m\n\u001b[1;32m      3\u001b[0m \u001b[0mnumbers\u001b[0m \u001b[0;34m=\u001b[0m \u001b[0;34m[\u001b[0m\u001b[0;36m1\u001b[0m\u001b[0;34m,\u001b[0m\u001b[0;36m2\u001b[0m\u001b[0;34m,\u001b[0m\u001b[0;36m3\u001b[0m\u001b[0;34m,\u001b[0m\u001b[0;36m4\u001b[0m\u001b[0;34m,\u001b[0m\u001b[0;36m5\u001b[0m\u001b[0;34m]\u001b[0m\u001b[0;34m,\u001b[0m\u001b[0;34m[\u001b[0m\u001b[0;34m\"hello\"\u001b[0m\u001b[0;34m,\u001b[0m\u001b[0;34m\"learners\"\u001b[0m\u001b[0;34m]\u001b[0m\u001b[0;34m\u001b[0m\u001b[0;34m\u001b[0m\u001b[0m\n\u001b[0;32m----> 4\u001b[0;31m \u001b[0mnumbers\u001b[0m \u001b[0;34m=\u001b[0m \u001b[0mnp\u001b[0m\u001b[0;34m.\u001b[0m\u001b[0marray\u001b[0m\u001b[0;34m(\u001b[0m\u001b[0mnumbers\u001b[0m\u001b[0;34m)\u001b[0m\u001b[0;34m\u001b[0m\u001b[0;34m\u001b[0m\u001b[0m\n\u001b[0m\u001b[1;32m      5\u001b[0m \u001b[0mprint\u001b[0m\u001b[0;34m(\u001b[0m\u001b[0;34m\"Two dimensional Array : \"\u001b[0m\u001b[0;34m,\u001b[0m \u001b[0mnumbers\u001b[0m\u001b[0;34m)\u001b[0m\u001b[0;34m\u001b[0m\u001b[0;34m\u001b[0m\u001b[0m\n\u001b[1;32m      6\u001b[0m \u001b[0;34m\u001b[0m\u001b[0m\n",
            "\u001b[0;31mValueError\u001b[0m: setting an array element with a sequence. The requested array has an inhomogeneous shape after 1 dimensions. The detected shape was (2,) + inhomogeneous part."
          ]
        }
      ]
    },
    {
      "cell_type": "code",
      "source": [
        "import numpy as np\n",
        "\n",
        "eye_mat = np.eye(4)\n",
        "print(\"One across diagonals: \\n\\n\",eye_mat)"
      ],
      "metadata": {
        "colab": {
          "base_uri": "https://localhost:8080/"
        },
        "id": "oYXmdj0JAlyY",
        "outputId": "6d342fb9-05e5-4c81-ffb8-e795a576ebf1"
      },
      "execution_count": 10,
      "outputs": [
        {
          "output_type": "stream",
          "name": "stdout",
          "text": [
            "One across diagonals: \n",
            "\n",
            " [[1. 0. 0. 0.]\n",
            " [0. 1. 0. 0.]\n",
            " [0. 0. 1. 0.]\n",
            " [0. 0. 0. 1.]]\n"
          ]
        }
      ]
    },
    {
      "cell_type": "code",
      "source": [
        "import numpy as np\n",
        "\n",
        "random_print = np.random.randint(0,100,10)\n",
        "print(\"Random numbers from 0 to 100 printing 10:\\n\\n\",random_print)\n",
        "\n"
      ],
      "metadata": {
        "colab": {
          "base_uri": "https://localhost:8080/"
        },
        "id": "46cZU8awA9XJ",
        "outputId": "7c26eb37-97e0-456b-c738-499eb624a389"
      },
      "execution_count": 13,
      "outputs": [
        {
          "output_type": "stream",
          "name": "stdout",
          "text": [
            "Random numbers from 0 to 100 printing 10:\n",
            "\n",
            " [43 40 41 44 45 36 64 25 49 28]\n"
          ]
        }
      ]
    },
    {
      "cell_type": "markdown",
      "source": [
        "Printing last element in the array"
      ],
      "metadata": {
        "id": "OOSoe92oDg6T"
      }
    },
    {
      "cell_type": "code",
      "source": [
        "names = np.array([\"Anisha\",\"Mihir\",\"Joe\",\"Saathvika\"])\n",
        "print(\"\\n Last element of the array is:\",names[-1])"
      ],
      "metadata": {
        "colab": {
          "base_uri": "https://localhost:8080/"
        },
        "id": "2tBxuf3HDj5v",
        "outputId": "7119c7ee-8c46-4656-fc05-742fcd169328"
      },
      "execution_count": 14,
      "outputs": [
        {
          "output_type": "stream",
          "name": "stdout",
          "text": [
            "\n",
            " Last element of the array is: Saathvika\n"
          ]
        }
      ]
    },
    {
      "cell_type": "code",
      "source": [
        "numbers = np.array([[5,8,7],[1,2,3],[4,7,9]])\n",
        "print(\"Second Row,third element:\",numbers[1][2])\n"
      ],
      "metadata": {
        "colab": {
          "base_uri": "https://localhost:8080/"
        },
        "id": "TUCxrJRwD80I",
        "outputId": "91d308b3-fda2-4691-fbc2-34f3e7243802"
      },
      "execution_count": 15,
      "outputs": [
        {
          "output_type": "stream",
          "name": "stdout",
          "text": [
            "Second Row,third element: 3\n"
          ]
        }
      ]
    },
    {
      "cell_type": "code",
      "source": [
        "numbers = np.array([0,1,2,3,4,5,6,7,8,9,10,11,12,13,14,15])\n",
        "numbers[numbers%2==0]=10\n",
        "print(numbers)"
      ],
      "metadata": {
        "colab": {
          "base_uri": "https://localhost:8080/"
        },
        "id": "IibcmXqGE0Qy",
        "outputId": "48bdb0f5-bb31-4b34-c553-40b258b243cb"
      },
      "execution_count": 16,
      "outputs": [
        {
          "output_type": "stream",
          "name": "stdout",
          "text": [
            "[10  1 10  3 10  5 10  7 10  9 10 11 10 13 10 15]\n"
          ]
        }
      ]
    },
    {
      "cell_type": "markdown",
      "source": [
        "**Convert from 1D to 2D array**"
      ],
      "metadata": {
        "id": "qMue8BvMFMmo"
      }
    },
    {
      "cell_type": "code",
      "source": [
        "numbers = np.arange(10)\n",
        "print(numbers)\n",
        "print(\"Reshaped into 2 dimensions:\\n\")\n",
        "numbers.reshape(2, -1)"
      ],
      "metadata": {
        "colab": {
          "base_uri": "https://localhost:8080/"
        },
        "id": "aqmZtMvUFSn7",
        "outputId": "19f953df-c2f7-44ff-e04c-f754e2add500"
      },
      "execution_count": 18,
      "outputs": [
        {
          "output_type": "stream",
          "name": "stdout",
          "text": [
            "[0 1 2 3 4 5 6 7 8 9]\n",
            "Reshaped into 2 dimensions:\n",
            "\n"
          ]
        },
        {
          "output_type": "execute_result",
          "data": {
            "text/plain": [
              "array([[0, 1, 2, 3, 4],\n",
              "       [5, 6, 7, 8, 9]])"
            ]
          },
          "metadata": {},
          "execution_count": 18
        }
      ]
    },
    {
      "cell_type": "markdown",
      "source": [
        "**Import series using dictionary**"
      ],
      "metadata": {
        "id": "IhwE5CjoFrH3"
      }
    },
    {
      "cell_type": "code",
      "source": [
        "import pandas as pd\n",
        "import numpy as np\n",
        "\n",
        "sample_dict = {\"x\":1, \"y\":2, \"z\":3}\n",
        "the_series = pd.Series(sample_dict)\n",
        "print(the_series)"
      ],
      "metadata": {
        "colab": {
          "base_uri": "https://localhost:8080/"
        },
        "id": "Kr3Az4fQFxK0",
        "outputId": "fee50aa2-9f1b-4c86-f0a4-c132fa7d08d7"
      },
      "execution_count": 20,
      "outputs": [
        {
          "output_type": "stream",
          "name": "stdout",
          "text": [
            "x    1\n",
            "y    2\n",
            "z    3\n",
            "dtype: int64\n"
          ]
        }
      ]
    },
    {
      "cell_type": "markdown",
      "source": [
        "**Assigning names to the series' index**"
      ],
      "metadata": {
        "id": "zi69db7DGTpK"
      }
    },
    {
      "cell_type": "code",
      "source": [
        "sample_series = pd.Series(list('123456789'))\n",
        "sample_series.name = 'numbers'\n",
        "sample_series.head()"
      ],
      "metadata": {
        "colab": {
          "base_uri": "https://localhost:8080/"
        },
        "id": "tnhA9f9SGZ07",
        "outputId": "c2300465-5d0d-4448-b878-a1ecfe68877f"
      },
      "execution_count": 21,
      "outputs": [
        {
          "output_type": "execute_result",
          "data": {
            "text/plain": [
              "0    1\n",
              "1    2\n",
              "2    3\n",
              "3    4\n",
              "4    5\n",
              "Name: numbers, dtype: object"
            ]
          },
          "metadata": {},
          "execution_count": 21
        }
      ]
    },
    {
      "cell_type": "markdown",
      "source": [
        "**Converting NumPy array to Pandas dataframe**"
      ],
      "metadata": {
        "id": "vwVMY5sjGzTR"
      }
    },
    {
      "cell_type": "code",
      "source": [
        "sample_series = pd.Series(np.random.randint(1, 30, 25))\n",
        "data_frame = pd.DataFrame(sample_series.values.reshape(5,5))\n",
        "print(data_frame)"
      ],
      "metadata": {
        "colab": {
          "base_uri": "https://localhost:8080/"
        },
        "id": "7MI7I_0HG70g",
        "outputId": "71238f8b-a863-42be-ee46-94e8a025b49f"
      },
      "execution_count": 22,
      "outputs": [
        {
          "output_type": "stream",
          "name": "stdout",
          "text": [
            "    0   1   2   3   4\n",
            "0  11  15  14  20   2\n",
            "1  20  17  19  19  17\n",
            "2  26  24  18   6   6\n",
            "3  15   1  27  14  20\n",
            "4   7   9  25  29   6\n"
          ]
        }
      ]
    }
  ]
}